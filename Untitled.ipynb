{
 "cells": [
  {
   "cell_type": "code",
   "execution_count": 1,
   "metadata": {},
   "outputs": [],
   "source": [
    "import pandas as pd\n",
    "import numpy as np\n",
    "import matplotlib as plt"
   ]
  },
  {
   "cell_type": "code",
   "execution_count": 2,
   "metadata": {},
   "outputs": [
    {
     "data": {
      "text/html": [
       "<div>\n",
       "<style scoped>\n",
       "    .dataframe tbody tr th:only-of-type {\n",
       "        vertical-align: middle;\n",
       "    }\n",
       "\n",
       "    .dataframe tbody tr th {\n",
       "        vertical-align: top;\n",
       "    }\n",
       "\n",
       "    .dataframe thead th {\n",
       "        text-align: right;\n",
       "    }\n",
       "</style>\n",
       "<table border=\"1\" class=\"dataframe\">\n",
       "  <thead>\n",
       "    <tr style=\"text-align: right;\">\n",
       "      <th></th>\n",
       "      <th>_id</th>\n",
       "      <th>timestamp</th>\n",
       "      <th>day</th>\n",
       "      <th>userAgent</th>\n",
       "      <th>ip</th>\n",
       "      <th>referer</th>\n",
       "      <th>origin</th>\n",
       "      <th>platform</th>\n",
       "      <th>browser</th>\n",
       "      <th>browserVersion</th>\n",
       "      <th>...</th>\n",
       "      <th>city</th>\n",
       "      <th>operator</th>\n",
       "      <th>cookie</th>\n",
       "      <th>region</th>\n",
       "      <th>bankName</th>\n",
       "      <th>code</th>\n",
       "      <th>shortLink</th>\n",
       "      <th>shortCode</th>\n",
       "      <th>uniqueness</th>\n",
       "      <th>__v</th>\n",
       "    </tr>\n",
       "  </thead>\n",
       "  <tbody>\n",
       "    <tr>\n",
       "      <th>0</th>\n",
       "      <td>5fa909892ad1ae5eeb654eef</td>\n",
       "      <td>2020-11-09 17:19:00</td>\n",
       "      <td>2020-11-09</td>\n",
       "      <td>Mozilla/5.0 (Linux; U; Android 8.1.0; zh-CN; E...</td>\n",
       "      <td>180.163.220.5</td>\n",
       "      <td>http://baidu.com/</td>\n",
       "      <td>直接访问</td>\n",
       "      <td>Android</td>\n",
       "      <td>UC Browser</td>\n",
       "      <td>11.9.4.974</td>\n",
       "      <td>...</td>\n",
       "      <td>上海市</td>\n",
       "      <td>电信</td>\n",
       "      <td>9d1036f0-226c-11eb-a275-f3f347e250e8</td>\n",
       "      <td>中国|上海|上海市|电信</td>\n",
       "      <td>NaN</td>\n",
       "      <td>NaN</td>\n",
       "      <td>4u9.cn/mqw8l</td>\n",
       "      <td>mqw8l</td>\n",
       "      <td>True</td>\n",
       "      <td>0</td>\n",
       "    </tr>\n",
       "    <tr>\n",
       "      <th>1</th>\n",
       "      <td>5fa842ad2ad1ae5eeb654201</td>\n",
       "      <td>2020-11-09 03:10:00</td>\n",
       "      <td>2020-11-09</td>\n",
       "      <td>Mozilla/5.0 (Linux; Android 10; SM-A7160 Build...</td>\n",
       "      <td>117.136.62.28</td>\n",
       "      <td>直接访问</td>\n",
       "      <td>直接访问</td>\n",
       "      <td>Android</td>\n",
       "      <td>Android Chrome</td>\n",
       "      <td>80.0.3987.99</td>\n",
       "      <td>...</td>\n",
       "      <td>成都市</td>\n",
       "      <td>移动</td>\n",
       "      <td>15ba3b90-21f6-11eb-a275-f3f347e250e8</td>\n",
       "      <td>中国|四川省|成都市|移动</td>\n",
       "      <td>NaN</td>\n",
       "      <td>NaN</td>\n",
       "      <td>https://4u9.cn/mq0rw</td>\n",
       "      <td>mq0rw</td>\n",
       "      <td>True</td>\n",
       "      <td>0</td>\n",
       "    </tr>\n",
       "    <tr>\n",
       "      <th>2</th>\n",
       "      <td>5fa8ee4b7c98656b5618108c</td>\n",
       "      <td>2020-11-09 15:22:00</td>\n",
       "      <td>2020-11-09</td>\n",
       "      <td>Mozilla/5.0 (Windows NT 6.1; Win64; x64) Apple...</td>\n",
       "      <td>125.89.52.77</td>\n",
       "      <td>直接访问</td>\n",
       "      <td>直接访问</td>\n",
       "      <td>PC</td>\n",
       "      <td>Chrome</td>\n",
       "      <td>86.0.4240.183</td>\n",
       "      <td>...</td>\n",
       "      <td>珠海市</td>\n",
       "      <td>电信</td>\n",
       "      <td>6053c390-225c-11eb-b090-8d2a5863347f</td>\n",
       "      <td>中国|广东省|珠海市|电信</td>\n",
       "      <td>NaN</td>\n",
       "      <td>NaN</td>\n",
       "      <td>https://4u9.cn/mq0rw</td>\n",
       "      <td>mq0rw</td>\n",
       "      <td>True</td>\n",
       "      <td>0</td>\n",
       "    </tr>\n",
       "    <tr>\n",
       "      <th>3</th>\n",
       "      <td>5fa8f0057c98656b561810ba</td>\n",
       "      <td>2020-11-09 15:30:00</td>\n",
       "      <td>2020-11-09</td>\n",
       "      <td>Mozilla/5.0 (Linux; Android 7.0; SM-G9280 Buil...</td>\n",
       "      <td>223.104.36.205</td>\n",
       "      <td>直接访问</td>\n",
       "      <td>直接访问</td>\n",
       "      <td>Android</td>\n",
       "      <td>Android Chrome</td>\n",
       "      <td>64.0.3282.137</td>\n",
       "      <td>...</td>\n",
       "      <td>0</td>\n",
       "      <td>移动</td>\n",
       "      <td>67dece10-225d-11eb-b090-8d2a5863347f</td>\n",
       "      <td>中国|安徽省|0|移动</td>\n",
       "      <td>NaN</td>\n",
       "      <td>NaN</td>\n",
       "      <td>https://4u9.cn/mq0rw</td>\n",
       "      <td>mq0rw</td>\n",
       "      <td>True</td>\n",
       "      <td>0</td>\n",
       "    </tr>\n",
       "    <tr>\n",
       "      <th>4</th>\n",
       "      <td>5fa90867240e825ee91f121a</td>\n",
       "      <td>2020-11-09 17:14:00</td>\n",
       "      <td>2020-11-09</td>\n",
       "      <td>Mozilla/5.0 (Linux; Android 7.1.1; OS105 Build...</td>\n",
       "      <td>112.9.3.192</td>\n",
       "      <td>直接访问</td>\n",
       "      <td>直接访问</td>\n",
       "      <td>Android</td>\n",
       "      <td>Android Chrome</td>\n",
       "      <td>62.0.3202.84</td>\n",
       "      <td>...</td>\n",
       "      <td>日照市</td>\n",
       "      <td>移动</td>\n",
       "      <td>f04c2820-226b-11eb-ba84-7bec6a037a6e</td>\n",
       "      <td>中国|山东省|日照市|移动</td>\n",
       "      <td>NaN</td>\n",
       "      <td>NaN</td>\n",
       "      <td>https://4u9.cn/mq0rw</td>\n",
       "      <td>mq0rw</td>\n",
       "      <td>True</td>\n",
       "      <td>0</td>\n",
       "    </tr>\n",
       "  </tbody>\n",
       "</table>\n",
       "<p>5 rows × 30 columns</p>\n",
       "</div>"
      ],
      "text/plain": [
       "                        _id           timestamp         day  \\\n",
       "0  5fa909892ad1ae5eeb654eef 2020-11-09 17:19:00  2020-11-09   \n",
       "1  5fa842ad2ad1ae5eeb654201 2020-11-09 03:10:00  2020-11-09   \n",
       "2  5fa8ee4b7c98656b5618108c 2020-11-09 15:22:00  2020-11-09   \n",
       "3  5fa8f0057c98656b561810ba 2020-11-09 15:30:00  2020-11-09   \n",
       "4  5fa90867240e825ee91f121a 2020-11-09 17:14:00  2020-11-09   \n",
       "\n",
       "                                           userAgent              ip  \\\n",
       "0  Mozilla/5.0 (Linux; U; Android 8.1.0; zh-CN; E...   180.163.220.5   \n",
       "1  Mozilla/5.0 (Linux; Android 10; SM-A7160 Build...   117.136.62.28   \n",
       "2  Mozilla/5.0 (Windows NT 6.1; Win64; x64) Apple...    125.89.52.77   \n",
       "3  Mozilla/5.0 (Linux; Android 7.0; SM-G9280 Buil...  223.104.36.205   \n",
       "4  Mozilla/5.0 (Linux; Android 7.1.1; OS105 Build...     112.9.3.192   \n",
       "\n",
       "             referer origin platform         browser browserVersion  ... city  \\\n",
       "0  http://baidu.com/   直接访问  Android      UC Browser     11.9.4.974  ...  上海市   \n",
       "1               直接访问   直接访问  Android  Android Chrome   80.0.3987.99  ...  成都市   \n",
       "2               直接访问   直接访问       PC          Chrome  86.0.4240.183  ...  珠海市   \n",
       "3               直接访问   直接访问  Android  Android Chrome  64.0.3282.137  ...    0   \n",
       "4               直接访问   直接访问  Android  Android Chrome   62.0.3202.84  ...  日照市   \n",
       "\n",
       "  operator                                cookie         region bankName code  \\\n",
       "0       电信  9d1036f0-226c-11eb-a275-f3f347e250e8   中国|上海|上海市|电信      NaN  NaN   \n",
       "1       移动  15ba3b90-21f6-11eb-a275-f3f347e250e8  中国|四川省|成都市|移动      NaN  NaN   \n",
       "2       电信  6053c390-225c-11eb-b090-8d2a5863347f  中国|广东省|珠海市|电信      NaN  NaN   \n",
       "3       移动  67dece10-225d-11eb-b090-8d2a5863347f    中国|安徽省|0|移动      NaN  NaN   \n",
       "4       移动  f04c2820-226b-11eb-ba84-7bec6a037a6e  中国|山东省|日照市|移动      NaN  NaN   \n",
       "\n",
       "              shortLink shortCode uniqueness __v  \n",
       "0          4u9.cn/mqw8l     mqw8l       True   0  \n",
       "1  https://4u9.cn/mq0rw     mq0rw       True   0  \n",
       "2  https://4u9.cn/mq0rw     mq0rw       True   0  \n",
       "3  https://4u9.cn/mq0rw     mq0rw       True   0  \n",
       "4  https://4u9.cn/mq0rw     mq0rw       True   0  \n",
       "\n",
       "[5 rows x 30 columns]"
      ]
     },
     "execution_count": 2,
     "metadata": {},
     "output_type": "execute_result"
    }
   ],
   "source": [
    "data=pd.read_excel(\"H:\\\\wait_data\\\\Untitled.xls\")\n",
    "data.head()"
   ]
  },
  {
   "cell_type": "code",
   "execution_count": 3,
   "metadata": {},
   "outputs": [
    {
     "name": "stdout",
     "output_type": "stream",
     "text": [
      "Index(['_id', 'timestamp', 'day', 'userAgent', 'ip', 'referer', 'origin',\n",
      "       'platform', 'browser', 'browserVersion', 'engine', 'engineVersion',\n",
      "       'os', 'osVersion', 'device', 'deviceType', 'deviceManufacturer',\n",
      "       'deviceModel', 'country', 'province', 'city', 'operator', 'cookie',\n",
      "       'region', 'bankName', 'code', 'shortLink', 'shortCode', 'uniqueness',\n",
      "       '__v'],\n",
      "      dtype='object')\n",
      "RangeIndex(start=0, stop=509, step=1)\n"
     ]
    }
   ],
   "source": [
    "print(data.columns)\n",
    "print(data.index)"
   ]
  },
  {
   "cell_type": "code",
   "execution_count": 10,
   "metadata": {},
   "outputs": [
    {
     "data": {
      "text/plain": [
       "0      False\n",
       "1       True\n",
       "2       True\n",
       "3       True\n",
       "4       True\n",
       "       ...  \n",
       "504     True\n",
       "505     True\n",
       "506     True\n",
       "507     True\n",
       "508     True\n",
       "Name: day, Length: 509, dtype: bool"
      ]
     },
     "execution_count": 10,
     "metadata": {},
     "output_type": "execute_result"
    }
   ],
   "source": [
    "# 删除重复值\n",
    "\n",
    "data[\"_id\"].duplicated()\n",
    "data[\"day\"].duplicated()"
   ]
  },
  {
   "cell_type": "code",
   "execution_count": 16,
   "metadata": {},
   "outputs": [
    {
     "data": {
      "text/plain": [
       "0     NaN\n",
       "1     NaN\n",
       "2     NaN\n",
       "3     NaN\n",
       "4     1.0\n",
       "5     1.0\n",
       "6     1.0\n",
       "7     1.0\n",
       "8     1.0\n",
       "9     0.8\n",
       "10    0.8\n",
       "11    0.8\n",
       "12    0.8\n",
       "13    0.8\n",
       "14    1.0\n",
       "15    1.0\n",
       "16    1.0\n",
       "17    1.0\n",
       "18    1.0\n",
       "19    1.0\n",
       "Name: uniqueness, dtype: float64"
      ]
     },
     "execution_count": 16,
     "metadata": {},
     "output_type": "execute_result"
    }
   ],
   "source": [
    "data['uniqueness'][:20].rolling(5).mean()"
   ]
  },
  {
   "cell_type": "code",
   "execution_count": 15,
   "metadata": {},
   "outputs": [
    {
     "data": {
      "text/plain": [
       "2.0"
      ]
     },
     "execution_count": 15,
     "metadata": {},
     "output_type": "execute_result"
    }
   ],
   "source": [
    "data['uniqueness'][:20].rolling(5).count().iloc[1]"
   ]
  },
  {
   "cell_type": "code",
   "execution_count": 1,
   "metadata": {},
   "outputs": [],
   "source": [
    "import numpy as np\n",
    "import pandas as pd\n",
    "import matplotlib.pyplot as plt\n",
    "import statsmodels.api as sm\n",
    "from statsmodels.tsa.api import Holt"
   ]
  },
  {
   "cell_type": "code",
   "execution_count": 3,
   "metadata": {},
   "outputs": [],
   "source": [
    "df=pd.read_excel(\"H:\\\\wait_data\\\\shuidi-PV.xlsx\")\n",
    "train=df[:365]\n",
    "test=df[366:]"
   ]
  },
  {
   "cell_type": "code",
   "execution_count": 4,
   "metadata": {},
   "outputs": [],
   "source": [
    "df[\"timestamp\"]=pd.to_datetime(df[\"date\"],format='%d-%m-%Y')\n",
    "df.index=df[\"timestamp\"]\n",
    "df=df.resample(\"D\").mean()\n",
    "train[\"timestamp\"]=pd.to_datetime(train[\"date\"],format='%d-%m-%Y')\n",
    "train.index=train[\"timestamp\"]\n",
    "train=train.resample(\"D\").mean()\n",
    "test[\"timestamp\"]=pd.to_datetime(test[\"date\"],format='%d-%m-%Y')\n",
    "test.index=test[\"timestamp\"]\n",
    "test=test.resample(\"D\").mean()"
   ]
  },
  {
   "cell_type": "code",
   "execution_count": 5,
   "metadata": {},
   "outputs": [
    {
     "data": {
      "image/png": "[encoded data removed]",
      "text/plain": [
       "<Figure size 1080x576 with 1 Axes>"
      ]
     },
     "metadata": {
      "needs_background": "light"
     },
     "output_type": "display_data"
    }
   ],
   "source": [
    "train.PV.plot(figsize=(15,8),title=\"shuidi-PV\",fontsize=14)\n",
    "test.PV.plot(figsize=(15,8),title=\"shuidi-PV\",fontsize=14)\n",
    "plt.show()"
   ]
  },
  {
   "cell_type": "code",
   "execution_count": 16,
   "metadata": {},
   "outputs": [
    {
     "ename": "AttributeError",
     "evalue": "'tuple' object has no attribute 'dropna'",
     "output_type": "error",
     "traceback": [
      "\u001b[1;31m---------------------------------------------------------------------------\u001b[0m",
      "\u001b[1;31mAttributeError\u001b[0m                            Traceback (most recent call last)",
      "\u001b[1;32m<ipython-input-16-40c9fb99c075>\u001b[0m in \u001b[0;36m<module>\u001b[1;34m\u001b[0m\n\u001b[0;32m      1\u001b[0m \u001b[0msm\u001b[0m\u001b[1;33m.\u001b[0m\u001b[0mtsa\u001b[0m\u001b[1;33m.\u001b[0m\u001b[0mseasonal_decompose\u001b[0m\u001b[1;33m(\u001b[0m\u001b[0mtrain\u001b[0m\u001b[1;33m[\u001b[0m\u001b[1;34m\"PV\"\u001b[0m\u001b[1;33m]\u001b[0m\u001b[1;33m)\u001b[0m\u001b[1;33m.\u001b[0m\u001b[0mplot\u001b[0m\u001b[1;33m(\u001b[0m\u001b[1;33m)\u001b[0m\u001b[1;33m\u001b[0m\u001b[0m\n\u001b[1;32m----> 2\u001b[1;33m \u001b[0mre\u001b[0m\u001b[1;33m=\u001b[0m\u001b[0msm\u001b[0m\u001b[1;33m.\u001b[0m\u001b[0mtsa\u001b[0m\u001b[1;33m.\u001b[0m\u001b[0mstattools\u001b[0m\u001b[1;33m.\u001b[0m\u001b[0madfuller\u001b[0m\u001b[1;33m(\u001b[0m\u001b[0mtrain\u001b[0m\u001b[1;33m[\u001b[0m\u001b[1;34m\"PV\"\u001b[0m\u001b[1;33m]\u001b[0m\u001b[1;33m)\u001b[0m\u001b[1;33m.\u001b[0m\u001b[0mdropna\u001b[0m\u001b[1;33m(\u001b[0m\u001b[1;33m)\u001b[0m\u001b[1;33m\u001b[0m\u001b[0m\n\u001b[0m\u001b[0;32m      3\u001b[0m \u001b[0mprint\u001b[0m\u001b[1;33m(\u001b[0m\u001b[0mre\u001b[0m\u001b[1;33m)\u001b[0m\u001b[1;33m\u001b[0m\u001b[0m\n\u001b[0;32m      4\u001b[0m \u001b[0mplt\u001b[0m\u001b[1;33m.\u001b[0m\u001b[0mshow\u001b[0m\u001b[1;33m(\u001b[0m\u001b[1;33m)\u001b[0m\u001b[1;33m\u001b[0m\u001b[0m\n",
      "\u001b[1;31mAttributeError\u001b[0m: 'tuple' object has no attribute 'dropna'"
     ]
    },
    {
     "data": {
      "image/png": "[encoded data removed]",
      "text/plain": [
       "<Figure size 432x288 with 4 Axes>"
      ]
     },
     "metadata": {
      "needs_background": "light"
     },
     "output_type": "display_data"
    }
   ],
   "source": [
    "sm.tsa.seasonal_decompose(train[\"PV\"]).plot()\n",
    "re=sm.tsa.stattools.adfuller(train[\"PV\"]).dropna()\n",
    "print(re)\n",
    "plt.show()"
   ]
  },
  {
   "cell_type": "code",
   "execution_count": 17,
   "metadata": {},
   "outputs": [
    {
     "name": "stdout",
     "output_type": "stream",
     "text": [
      "train_diff 364 <class 'numpy.ndarray'>\n",
      "(-12.733001114683972, 9.288228707935427e-24, 4, 359, {'1%': -3.4486972813047574, '5%': -2.8696246923288418, '10%': -2.571077032068342}, 5835.573894796675)\n"
     ]
    }
   ],
   "source": [
    "train_diff=np.diff(train[\"PV\"])\n",
    "# train_diff=train[\"PV\"].diff(periods=2)\n",
    "print(\"train_diff\",len(train_diff),type(train_diff))\n",
    "re_diff=sm.tsa.stattools.adfuller(train_diff)\n",
    "print(re_diff) "
   ]
  },
  {
   "cell_type": "code",
   "execution_count": 2,
   "metadata": {},
   "outputs": [
    {
     "name": "stdout",
     "output_type": "stream",
     "text": [
      "   一级分行 二级分行   合作商       渠道码 进件介质  推广机构代码       进件日期 客户姓名  手机号后四位 推广人姓名 推广人编号  \\\n",
      "0  上海分行    无  上海冬晨  BsSH0083   网申      23 2021-03-10  邱忠淑    7663     无     无   \n",
      "1  上海分行    无  上海冬晨  BsSH0083   网申      23 2021-03-10   张敏    8803     无     无   \n",
      "2  上海分行    无  上海冬晨  BsSH0083   网申      23 2021-03-10   张伟    9669     无     无   \n",
      "3  上海分行    无  上海冬晨  BsSH0083   网申      23 2021-03-10  朱兆寿     880     无     无   \n",
      "4  上海分行    无  上海冬晨  BsSH0083   网申      23 2021-03-11   陈伯    3905     无     无   \n",
      "\n",
      "   渠道  \n",
      "0  卡鱼  \n",
      "1  卡鱼  \n",
      "2  卡鱼  \n",
      "3  卡鱼  \n",
      "4  卡鱼  \n"
     ]
    }
   ],
   "source": [
    "data=pd.read_excel(r\"H:\\wait_data\\恒丰数据-上分-2021.3.12.xlsx\", sheet_name=u'进件')\n",
    "print(data.head())"
   ]
  },
  {
   "cell_type": "code",
   "execution_count": 3,
   "metadata": {},
   "outputs": [
    {
     "name": "stdout",
     "output_type": "stream",
     "text": [
      "['卡鱼', '掌银', '金扬', '数字魔方']\n",
      "4\n"
     ]
    }
   ],
   "source": [
    "\n",
    "rows = data.shape[0]  # 获取行数 shape[1]获取列数\n",
    "department_list = []\n",
    "\n",
    "for i in range(rows):\n",
    "    temp = data[\"渠道\"][i]\n",
    "    if temp not in department_list:  # 防止重复\n",
    "        department_list.append(temp)  # 将销售部门的分类存在一个列表中\n",
    "print(department_list)\n",
    "n = len(department_list)  # 销售部门科目数\n",
    "print(n)"
   ]
  },
  {
   "cell_type": "code",
   "execution_count": 4,
   "metadata": {},
   "outputs": [],
   "source": [
    "df_one = pd.DataFrame()  # 用于存储一科的dataframe\n",
    "df_two = pd.DataFrame()  # 用于存储二科的dataframe\n",
    "df_three = pd.DataFrame()  # 用于存储三科的dataframe\n",
    "df_four = pd.DataFrame()  # 用于存储四科的dataframe\n",
    "df_list = [df_one, df_two, df_three, df_four]"
   ]
  },
  {
   "cell_type": "code",
   "execution_count": 12,
   "metadata": {},
   "outputs": [
    {
     "name": "stdout",
     "output_type": "stream",
     "text": [
      "     一级分行 二级分行   合作商       渠道码 进件介质  推广机构代码       进件日期 客户姓名  手机号后四位 推广人姓名  \\\n",
      "0    上海分行    无  上海冬晨  BsSH0088   网申      10 2021-03-11  陈黄林    3591     无   \n",
      "1    上海分行    无  上海冬晨  BsSH0088   网申      10 2021-03-11  鞠清萍    7885     无   \n",
      "2    上海分行    无  上海冬晨  BsSH0088   网申      10 2021-03-11  李振洋    7885     无   \n",
      "3    上海分行    无  上海冬晨  BsSH0088   网申      10 2021-03-11   刘艳    4272     无   \n",
      "4    上海分行    无  上海冬晨  BsSH0088   网申      10 2021-03-11  秦梦飞    2938     无   \n",
      "..    ...  ...   ...       ...  ...     ...        ...  ...     ...   ...   \n",
      "641  上海分行    无  上海冬晨  BsSH0088   网申     876 2021-03-11  张的培    5592     无   \n",
      "642  上海分行    无  上海冬晨  BsSH0088   网申     876 2021-03-11   张欢    6430     无   \n",
      "643  上海分行    无  上海冬晨  BsSH0088   网申     876 2021-03-11   张美    9734     无   \n",
      "644  上海分行    无  上海冬晨  BsSH0088   网申     876 2021-03-11  张明达    6027     无   \n",
      "645  上海分行    无  上海冬晨  BsSH0088   网申     876 2021-03-11  张廷续    1123     无   \n",
      "\n",
      "    推广人编号    渠道  \n",
      "0       无  数字魔方  \n",
      "1       无  数字魔方  \n",
      "2       无  数字魔方  \n",
      "3       无  数字魔方  \n",
      "4       无  数字魔方  \n",
      "..    ...   ...  \n",
      "641     无  数字魔方  \n",
      "642     无  数字魔方  \n",
      "643     无  数字魔方  \n",
      "644     无  数字魔方  \n",
      "645     无  数字魔方  \n",
      "\n",
      "[646 rows x 12 columns]\n",
      "<class 'pandas.core.frame.DataFrame'>\n"
     ]
    }
   ],
   "source": [
    "\n",
    "for department in range(n):\n",
    "    for i in range(0, rows):\n",
    "        if data[\"渠道\"][i] == department_list[department]:\n",
    "            df_list[department] = pd.concat([df_list[department], data.iloc[[i], :]], axis=0, ignore_index=True)\n",
    "print(df_list[department])\n",
    "print(type(df_list[department]))"
   ]
  },
  {
   "cell_type": "code",
   "execution_count": 13,
   "metadata": {},
   "outputs": [
    {
     "data": {
      "text/html": [
       "<div>\n",
       "<style scoped>\n",
       "    .dataframe tbody tr th:only-of-type {\n",
       "        vertical-align: middle;\n",
       "    }\n",
       "\n",
       "    .dataframe tbody tr th {\n",
       "        vertical-align: top;\n",
       "    }\n",
       "\n",
       "    .dataframe thead th {\n",
       "        text-align: right;\n",
       "    }\n",
       "</style>\n",
       "<table border=\"1\" class=\"dataframe\">\n",
       "  <thead>\n",
       "    <tr style=\"text-align: right;\">\n",
       "      <th></th>\n",
       "      <th>一级分行</th>\n",
       "      <th>二级分行</th>\n",
       "      <th>合作商</th>\n",
       "      <th>渠道码</th>\n",
       "      <th>进件介质</th>\n",
       "      <th>推广机构代码</th>\n",
       "      <th>进件日期</th>\n",
       "      <th>客户姓名</th>\n",
       "      <th>手机号后四位</th>\n",
       "      <th>推广人姓名</th>\n",
       "      <th>推广人编号</th>\n",
       "      <th>渠道</th>\n",
       "    </tr>\n",
       "  </thead>\n",
       "  <tbody>\n",
       "    <tr>\n",
       "      <th>1022</th>\n",
       "      <td>上海分行</td>\n",
       "      <td>无</td>\n",
       "      <td>上海冬晨</td>\n",
       "      <td>BsSH0088</td>\n",
       "      <td>网申</td>\n",
       "      <td>876</td>\n",
       "      <td>2021-03-11</td>\n",
       "      <td>张廷续</td>\n",
       "      <td>1123</td>\n",
       "      <td>无</td>\n",
       "      <td>无</td>\n",
       "      <td>数字魔方</td>\n",
       "    </tr>\n",
       "  </tbody>\n",
       "</table>\n",
       "</div>"
      ],
      "text/plain": [
       "      一级分行 二级分行   合作商       渠道码 进件介质  推广机构代码       进件日期 客户姓名  手机号后四位 推广人姓名  \\\n",
       "1022  上海分行    无  上海冬晨  BsSH0088   网申     876 2021-03-11  张廷续    1123     无   \n",
       "\n",
       "     推广人编号    渠道  \n",
       "1022     无  数字魔方  "
      ]
     },
     "execution_count": 13,
     "metadata": {},
     "output_type": "execute_result"
    }
   ],
   "source": [
    "data.iloc[[i], :]"
   ]
  },
  {
   "cell_type": "code",
   "execution_count": 10,
   "metadata": {},
   "outputs": [
    {
     "ename": "TypeError",
     "evalue": "write() argument must be str, not DataFrame",
     "output_type": "error",
     "traceback": [
      "\u001b[1;31m---------------------------------------------------------------------------\u001b[0m",
      "\u001b[1;31mTypeError\u001b[0m                                 Traceback (most recent call last)",
      "\u001b[1;32m<ipython-input-10-5746b3d8284a>\u001b[0m in \u001b[0;36m<module>\u001b[1;34m\u001b[0m\n\u001b[0;32m      1\u001b[0m \u001b[1;32mwith\u001b[0m \u001b[0mopen\u001b[0m\u001b[1;33m(\u001b[0m\u001b[1;34m\"H:\\wait_data:\\new.xlsx\"\u001b[0m\u001b[1;33m,\u001b[0m\u001b[1;34m\"a\"\u001b[0m\u001b[1;33m)\u001b[0m \u001b[1;32mas\u001b[0m \u001b[0mfile_obj\u001b[0m\u001b[1;33m:\u001b[0m\u001b[1;33m\u001b[0m\u001b[0m\n\u001b[0;32m      2\u001b[0m     \u001b[1;32mfor\u001b[0m \u001b[0mi\u001b[0m \u001b[1;32min\u001b[0m \u001b[0mrange\u001b[0m\u001b[1;33m(\u001b[0m\u001b[0mn\u001b[0m\u001b[1;33m)\u001b[0m\u001b[1;33m:\u001b[0m\u001b[1;33m\u001b[0m\u001b[0m\n\u001b[1;32m----> 3\u001b[1;33m         \u001b[0mfile_obj\u001b[0m\u001b[1;33m.\u001b[0m\u001b[0mwrite\u001b[0m\u001b[1;33m(\u001b[0m\u001b[0mdf_list\u001b[0m\u001b[1;33m[\u001b[0m\u001b[0mi\u001b[0m\u001b[1;33m]\u001b[0m\u001b[1;33m)\u001b[0m\u001b[1;33m\u001b[0m\u001b[0m\n\u001b[0m",
      "\u001b[1;31mTypeError\u001b[0m: write() argument must be str, not DataFrame"
     ]
    }
   ],
   "source": [
    "with open(\"H:\\wait_data:\\new.xlsx\",\"a\") as file_obj:\n",
    "    for i in range(n):\n",
    "        file_obj.write(df_list[i])"
   ]
  },
  {
   "cell_type": "code",
   "execution_count": 16,
   "metadata": {},
   "outputs": [
    {
     "ename": "SyntaxError",
     "evalue": "EOL while scanning string literal (<ipython-input-16-febed2c95e92>, line 1)",
     "output_type": "error",
     "traceback": [
      "\u001b[1;36m  File \u001b[1;32m\"<ipython-input-16-febed2c95e92>\"\u001b[1;36m, line \u001b[1;32m1\u001b[0m\n\u001b[1;33m    writer = pd.ExcelWriter(\"H:\\\\wait_data:\\\\new.xlsx，engine='xlsxwriter')  # 利用pd.ExcelWriter()存多张sheets\u001b[0m\n\u001b[1;37m                                                                                                         ^\u001b[0m\n\u001b[1;31mSyntaxError\u001b[0m\u001b[1;31m:\u001b[0m EOL while scanning string literal\n"
     ]
    }
   ],
   "source": [
    "writer = pd.ExcelWriter(\"H:\\\\wait_data:\\\\new.xlsx，engine='xlsxwriter')  # 利用pd.ExcelWriter()存多张sheets"
   ]
  },
  {
   "cell_type": "code",
   "execution_count": 17,
   "metadata": {},
   "outputs": [
    {
     "ename": "OSError",
     "evalue": "[Errno 22] Invalid argument: 'H:\\\\wait_data:\\\\new.xlsx'",
     "output_type": "error",
     "traceback": [
      "\u001b[1;31m---------------------------------------------------------------------------\u001b[0m",
      "\u001b[1;31mOSError\u001b[0m                                   Traceback (most recent call last)",
      "\u001b[1;32m<ipython-input-17-f52f0e02afd4>\u001b[0m in \u001b[0;36m<module>\u001b[1;34m\u001b[0m\n\u001b[0;32m      2\u001b[0m     \u001b[0mdf_list\u001b[0m\u001b[1;33m[\u001b[0m\u001b[0mi\u001b[0m\u001b[1;33m]\u001b[0m\u001b[1;33m.\u001b[0m\u001b[0mto_excel\u001b[0m\u001b[1;33m(\u001b[0m\u001b[0mwriter\u001b[0m\u001b[1;33m,\u001b[0m \u001b[0msheet_name\u001b[0m\u001b[1;33m=\u001b[0m\u001b[0mstr\u001b[0m\u001b[1;33m(\u001b[0m\u001b[0mdepartment_list\u001b[0m\u001b[1;33m[\u001b[0m\u001b[0mi\u001b[0m\u001b[1;33m]\u001b[0m\u001b[1;33m)\u001b[0m\u001b[1;33m,\u001b[0m \u001b[0mindex\u001b[0m\u001b[1;33m=\u001b[0m\u001b[1;32mFalse\u001b[0m\u001b[1;33m)\u001b[0m  \u001b[1;31m# 注意加上index=FALSE 去掉index列\u001b[0m\u001b[1;33m\u001b[0m\u001b[0m\n\u001b[0;32m      3\u001b[0m \u001b[1;33m\u001b[0m\u001b[0m\n\u001b[1;32m----> 4\u001b[1;33m \u001b[0mwriter\u001b[0m\u001b[1;33m.\u001b[0m\u001b[0msave\u001b[0m\u001b[1;33m(\u001b[0m\u001b[1;33m)\u001b[0m\u001b[1;33m\u001b[0m\u001b[0m\n\u001b[0m",
      "\u001b[1;32m~\\AppData\\Roaming\\Python\\Python36\\site-packages\\pandas\\io\\excel\\_openpyxl.py\u001b[0m in \u001b[0;36msave\u001b[1;34m(self)\u001b[0m\n\u001b[0;32m     41\u001b[0m         \u001b[0mSave\u001b[0m \u001b[0mworkbook\u001b[0m \u001b[0mto\u001b[0m \u001b[0mdisk\u001b[0m\u001b[1;33m.\u001b[0m\u001b[1;33m\u001b[0m\u001b[0m\n\u001b[0;32m     42\u001b[0m         \"\"\"\n\u001b[1;32m---> 43\u001b[1;33m         \u001b[1;32mreturn\u001b[0m \u001b[0mself\u001b[0m\u001b[1;33m.\u001b[0m\u001b[0mbook\u001b[0m\u001b[1;33m.\u001b[0m\u001b[0msave\u001b[0m\u001b[1;33m(\u001b[0m\u001b[0mself\u001b[0m\u001b[1;33m.\u001b[0m\u001b[0mpath\u001b[0m\u001b[1;33m)\u001b[0m\u001b[1;33m\u001b[0m\u001b[0m\n\u001b[0m\u001b[0;32m     44\u001b[0m \u001b[1;33m\u001b[0m\u001b[0m\n\u001b[0;32m     45\u001b[0m     \u001b[1;33m@\u001b[0m\u001b[0mclassmethod\u001b[0m\u001b[1;33m\u001b[0m\u001b[0m\n",
      "\u001b[1;32m~\\AppData\\Roaming\\Python\\Python36\\site-packages\\openpyxl\\workbook\\workbook.py\u001b[0m in \u001b[0;36msave\u001b[1;34m(self, filename)\u001b[0m\n\u001b[0;32m    390\u001b[0m         \u001b[1;32mif\u001b[0m \u001b[0mself\u001b[0m\u001b[1;33m.\u001b[0m\u001b[0mwrite_only\u001b[0m \u001b[1;32mand\u001b[0m \u001b[1;32mnot\u001b[0m \u001b[0mself\u001b[0m\u001b[1;33m.\u001b[0m\u001b[0mworksheets\u001b[0m\u001b[1;33m:\u001b[0m\u001b[1;33m\u001b[0m\u001b[0m\n\u001b[0;32m    391\u001b[0m             \u001b[0mself\u001b[0m\u001b[1;33m.\u001b[0m\u001b[0mcreate_sheet\u001b[0m\u001b[1;33m(\u001b[0m\u001b[1;33m)\u001b[0m\u001b[1;33m\u001b[0m\u001b[0m\n\u001b[1;32m--> 392\u001b[1;33m         \u001b[0msave_workbook\u001b[0m\u001b[1;33m(\u001b[0m\u001b[0mself\u001b[0m\u001b[1;33m,\u001b[0m \u001b[0mfilename\u001b[0m\u001b[1;33m)\u001b[0m\u001b[1;33m\u001b[0m\u001b[0m\n\u001b[0m\u001b[0;32m    393\u001b[0m \u001b[1;33m\u001b[0m\u001b[0m\n\u001b[0;32m    394\u001b[0m \u001b[1;33m\u001b[0m\u001b[0m\n",
      "\u001b[1;32m~\\AppData\\Roaming\\Python\\Python36\\site-packages\\openpyxl\\writer\\excel.py\u001b[0m in \u001b[0;36msave_workbook\u001b[1;34m(workbook, filename)\u001b[0m\n\u001b[0;32m    289\u001b[0m \u001b[1;33m\u001b[0m\u001b[0m\n\u001b[0;32m    290\u001b[0m     \"\"\"\n\u001b[1;32m--> 291\u001b[1;33m     \u001b[0marchive\u001b[0m \u001b[1;33m=\u001b[0m \u001b[0mZipFile\u001b[0m\u001b[1;33m(\u001b[0m\u001b[0mfilename\u001b[0m\u001b[1;33m,\u001b[0m \u001b[1;34m'w'\u001b[0m\u001b[1;33m,\u001b[0m \u001b[0mZIP_DEFLATED\u001b[0m\u001b[1;33m,\u001b[0m \u001b[0mallowZip64\u001b[0m\u001b[1;33m=\u001b[0m\u001b[1;32mTrue\u001b[0m\u001b[1;33m)\u001b[0m\u001b[1;33m\u001b[0m\u001b[0m\n\u001b[0m\u001b[0;32m    292\u001b[0m     \u001b[0mwriter\u001b[0m \u001b[1;33m=\u001b[0m \u001b[0mExcelWriter\u001b[0m\u001b[1;33m(\u001b[0m\u001b[0mworkbook\u001b[0m\u001b[1;33m,\u001b[0m \u001b[0marchive\u001b[0m\u001b[1;33m)\u001b[0m\u001b[1;33m\u001b[0m\u001b[0m\n\u001b[0;32m    293\u001b[0m     \u001b[0mwriter\u001b[0m\u001b[1;33m.\u001b[0m\u001b[0msave\u001b[0m\u001b[1;33m(\u001b[0m\u001b[1;33m)\u001b[0m\u001b[1;33m\u001b[0m\u001b[0m\n",
      "\u001b[1;32mf:\\python3.6.5\\lib\\zipfile.py\u001b[0m in \u001b[0;36m__init__\u001b[1;34m(self, file, mode, compression, allowZip64)\u001b[0m\n\u001b[0;32m   1088\u001b[0m             \u001b[1;32mwhile\u001b[0m \u001b[1;32mTrue\u001b[0m\u001b[1;33m:\u001b[0m\u001b[1;33m\u001b[0m\u001b[0m\n\u001b[0;32m   1089\u001b[0m                 \u001b[1;32mtry\u001b[0m\u001b[1;33m:\u001b[0m\u001b[1;33m\u001b[0m\u001b[0m\n\u001b[1;32m-> 1090\u001b[1;33m                     \u001b[0mself\u001b[0m\u001b[1;33m.\u001b[0m\u001b[0mfp\u001b[0m \u001b[1;33m=\u001b[0m \u001b[0mio\u001b[0m\u001b[1;33m.\u001b[0m\u001b[0mopen\u001b[0m\u001b[1;33m(\u001b[0m\u001b[0mfile\u001b[0m\u001b[1;33m,\u001b[0m \u001b[0mfilemode\u001b[0m\u001b[1;33m)\u001b[0m\u001b[1;33m\u001b[0m\u001b[0m\n\u001b[0m\u001b[0;32m   1091\u001b[0m                 \u001b[1;32mexcept\u001b[0m \u001b[0mOSError\u001b[0m\u001b[1;33m:\u001b[0m\u001b[1;33m\u001b[0m\u001b[0m\n\u001b[0;32m   1092\u001b[0m                     \u001b[1;32mif\u001b[0m \u001b[0mfilemode\u001b[0m \u001b[1;32min\u001b[0m \u001b[0mmodeDict\u001b[0m\u001b[1;33m:\u001b[0m\u001b[1;33m\u001b[0m\u001b[0m\n",
      "\u001b[1;31mOSError\u001b[0m: [Errno 22] Invalid argument: 'H:\\\\wait_data:\\\\new.xlsx'"
     ]
    }
   ],
   "source": [
    "for i in range(n):\n",
    "    df_list[i].to_excel(writer, sheet_name=str(department_list[i]), index=False)  # 注意加上index=FALSE 去掉index列\n",
    "\n",
    "writer.save()"
   ]
  },
  {
   "cell_type": "code",
   "execution_count": 28,
   "metadata": {},
   "outputs": [],
   "source": []
  },
  {
   "cell_type": "code",
   "execution_count": null,
   "metadata": {},
   "outputs": [],
   "source": []
  },
  {
   "cell_type": "code",
   "execution_count": null,
   "metadata": {},
   "outputs": [],
   "source": []
  }
 ],
 "metadata": {
  "kernelspec": {
   "display_name": "Python 3",
   "language": "python",
   "name": "python3"
  },
  "language_info": {
   "codemirror_mode": {
    "name": "ipython",
    "version": 3
   },
   "file_extension": ".py",
   "mimetype": "text/x-python",
   "name": "python",
   "nbconvert_exporter": "python",
   "pygments_lexer": "ipython3",
   "version": "3.6.5"
  }
 },
 "nbformat": 4,
 "nbformat_minor": 4
}
