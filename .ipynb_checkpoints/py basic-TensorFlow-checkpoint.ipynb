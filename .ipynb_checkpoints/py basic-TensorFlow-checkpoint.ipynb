{
 "cells": [
  {
   "cell_type": "code",
   "execution_count": 1,
   "metadata": {},
   "outputs": [
    {
     "name": "stderr",
     "output_type": "stream",
     "text": [
      "f:\\python3.6.5\\lib\\site-packages\\tensorflow\\python\\framework\\dtypes.py:458: FutureWarning: Passing (type, 1) or '1type' as a synonym of type is deprecated; in a future version of numpy, it will be understood as (type, (1,)) / '(1,)type'.\n",
      "  _np_qint8 = np.dtype([(\"qint8\", np.int8, 1)])\n",
      "f:\\python3.6.5\\lib\\site-packages\\tensorflow\\python\\framework\\dtypes.py:459: FutureWarning: Passing (type, 1) or '1type' as a synonym of type is deprecated; in a future version of numpy, it will be understood as (type, (1,)) / '(1,)type'.\n",
      "  _np_quint8 = np.dtype([(\"quint8\", np.uint8, 1)])\n",
      "f:\\python3.6.5\\lib\\site-packages\\tensorflow\\python\\framework\\dtypes.py:460: FutureWarning: Passing (type, 1) or '1type' as a synonym of type is deprecated; in a future version of numpy, it will be understood as (type, (1,)) / '(1,)type'.\n",
      "  _np_qint16 = np.dtype([(\"qint16\", np.int16, 1)])\n",
      "f:\\python3.6.5\\lib\\site-packages\\tensorflow\\python\\framework\\dtypes.py:461: FutureWarning: Passing (type, 1) or '1type' as a synonym of type is deprecated; in a future version of numpy, it will be understood as (type, (1,)) / '(1,)type'.\n",
      "  _np_quint16 = np.dtype([(\"quint16\", np.uint16, 1)])\n",
      "f:\\python3.6.5\\lib\\site-packages\\tensorflow\\python\\framework\\dtypes.py:462: FutureWarning: Passing (type, 1) or '1type' as a synonym of type is deprecated; in a future version of numpy, it will be understood as (type, (1,)) / '(1,)type'.\n",
      "  _np_qint32 = np.dtype([(\"qint32\", np.int32, 1)])\n",
      "f:\\python3.6.5\\lib\\site-packages\\tensorflow\\python\\framework\\dtypes.py:465: FutureWarning: Passing (type, 1) or '1type' as a synonym of type is deprecated; in a future version of numpy, it will be understood as (type, (1,)) / '(1,)type'.\n",
      "  np_resource = np.dtype([(\"resource\", np.ubyte, 1)])\n"
     ]
    }
   ],
   "source": [
    "import tensorflow as tf\n",
    "import numpy as np"
   ]
  },
  {
   "cell_type": "code",
   "execution_count": 7,
   "metadata": {},
   "outputs": [
    {
     "data": {
      "text/plain": [
       "100"
      ]
     },
     "execution_count": 7,
     "metadata": {},
     "output_type": "execute_result"
    }
   ],
   "source": [
    "data1=np.random.rand(2, 100)\n",
    "len(data1[1])"
   ]
  },
  {
   "cell_type": "code",
   "execution_count": 2,
   "metadata": {},
   "outputs": [],
   "source": [
    "x_data = np.float32(np.random.rand(2, 100))\n",
    "y_data = np.dot([0.100, 0.200], x_data) + 0.300"
   ]
  },
  {
   "cell_type": "code",
   "execution_count": 5,
   "metadata": {},
   "outputs": [
    {
     "name": "stdout",
     "output_type": "stream",
     "text": [
      "<class 'numpy.ndarray'> <class 'numpy.ndarray'> 2 100\n",
      "[[3.71970803e-01 5.96758246e-01 6.64075434e-01 1.75917789e-01\n",
      "  1.54212326e-01 6.25630260e-01 1.24425821e-01 5.20327687e-01\n",
      "  9.37525809e-01 9.16088998e-01 9.77448583e-01 3.30844343e-01\n",
      "  7.86689222e-01 7.85545483e-02 9.70363766e-02 1.25176981e-01\n",
      "  7.53915310e-01 1.48921460e-01 3.49933416e-01 7.84138560e-01\n",
      "  9.49880034e-02 2.87683047e-02 9.75117326e-01 1.04312934e-01\n",
      "  5.03014386e-01 4.97042149e-01 9.50900614e-01 2.66538630e-03\n",
      "  4.16567385e-01 9.83763993e-01 7.32300639e-01 1.59442008e-01\n",
      "  4.08354402e-01 2.86534786e-01 9.20311570e-01 2.60623276e-01\n",
      "  9.43973064e-01 3.41052294e-01 2.35143080e-02 7.29540586e-01\n",
      "  7.40014732e-01 8.01688135e-02 6.74649835e-01 3.36167127e-01\n",
      "  3.89795035e-01 6.85335934e-01 6.12896502e-01 4.88335282e-01\n",
      "  4.84332830e-01 5.64504683e-01 3.46208036e-01 3.56354564e-01\n",
      "  9.05410826e-01 8.40213895e-01 7.69454837e-01 2.48280570e-01\n",
      "  7.08582774e-02 6.67128205e-01 2.18853608e-01 4.71913666e-01\n",
      "  2.04265919e-02 8.16234827e-01 3.19200814e-01 3.35239410e-01\n",
      "  8.09696913e-01 3.60394537e-01 3.02531272e-01 1.66196395e-02\n",
      "  6.07631564e-01 1.79653153e-01 7.83029974e-01 4.89761412e-01\n",
      "  7.53469884e-01 8.54571223e-01 6.83365837e-02 1.91755071e-01\n",
      "  2.19056278e-01 3.41774970e-01 1.29594311e-01 9.31319594e-01\n",
      "  9.14354682e-01 9.53438640e-01 8.15414071e-01 2.10928604e-01\n",
      "  8.23596537e-01 2.58857906e-01 5.51693499e-01 4.10485774e-01\n",
      "  8.25625241e-01 4.63692099e-01 3.63034993e-01 7.65161812e-01\n",
      "  5.13371766e-01 5.33988416e-01 1.03778616e-01 8.72994736e-02\n",
      "  8.63679826e-01 4.54734296e-01 7.87139654e-01 5.00343561e-01]\n",
      " [6.39740348e-01 7.77892292e-01 1.18703328e-01 1.36168808e-01\n",
      "  4.72465128e-01 2.22600356e-01 5.10227323e-01 3.70242208e-01\n",
      "  2.66066462e-01 7.61654258e-01 4.20642883e-01 6.48078322e-01\n",
      "  6.75055802e-01 5.01723886e-01 9.55199361e-01 1.87625080e-01\n",
      "  7.92484060e-02 1.96870476e-01 6.90673411e-01 5.50061703e-01\n",
      "  9.40307260e-01 7.10537612e-01 6.94311261e-01 4.30306882e-01\n",
      "  3.15399230e-01 1.68363854e-01 6.37453318e-01 4.32559490e-01\n",
      "  6.99298680e-01 7.95958161e-01 7.59636104e-01 3.07662010e-01\n",
      "  6.31982028e-01 3.32589597e-01 7.24000216e-01 9.50179473e-02\n",
      "  7.85778582e-01 7.89930582e-01 3.71494561e-01 2.92290419e-01\n",
      "  3.84930253e-01 9.94671166e-01 9.52841043e-01 2.30429605e-01\n",
      "  9.13723111e-01 2.04734385e-01 7.77490377e-01 6.61466062e-01\n",
      "  4.51192230e-01 9.30038295e-05 1.69845950e-02 9.49501812e-01\n",
      "  4.22880441e-01 7.98952579e-01 9.73670125e-01 4.38343763e-01\n",
      "  8.46332729e-01 8.63581538e-01 2.78997630e-01 3.96193206e-01\n",
      "  3.32264900e-01 4.70702767e-01 3.42739046e-01 9.34466839e-01\n",
      "  4.98451531e-01 7.83934355e-01 3.34586024e-01 5.96665144e-01\n",
      "  1.19518220e-01 4.91610676e-01 5.66593528e-01 1.72535911e-01\n",
      "  6.60523713e-01 4.12538415e-03 1.18913323e-01 7.93284535e-01\n",
      "  8.86035085e-01 8.15579474e-01 2.20453635e-01 9.32307661e-01\n",
      "  4.69909189e-03 5.41620910e-01 5.33953667e-01 7.89623499e-01\n",
      "  5.28915524e-01 9.48560894e-01 4.69686210e-01 7.17004657e-01\n",
      "  5.01095414e-01 2.43609190e-01 1.42949015e-01 4.77094799e-01\n",
      "  9.73168015e-02 5.92188418e-01 8.72853935e-01 9.26880062e-01\n",
      "  9.66276526e-01 8.74736905e-01 5.55956960e-01 2.30188429e-01]]\n",
      "[0.46514515 0.51525428 0.39014821 0.34482554 0.40991426 0.4070831\n",
      " 0.41448805 0.42608121 0.44696587 0.54393975 0.48187343 0.4627001\n",
      " 0.51368008 0.40820023 0.50074351 0.35004271 0.39124121 0.35426624\n",
      " 0.47312802 0.4884262  0.49756025 0.44498435 0.53637398 0.39649267\n",
      " 0.41338128 0.38337699 0.52258072 0.38677844 0.48151647 0.55756803\n",
      " 0.52515728 0.3774766  0.46723185 0.3951714  0.5368312  0.34506592\n",
      " 0.55155302 0.49209135 0.37665034 0.43141214 0.45098752 0.50695111\n",
      " 0.55803319 0.37970263 0.52172413 0.40948047 0.51678773 0.48112674\n",
      " 0.43867173 0.35646907 0.33801772 0.52553582 0.47511717 0.54381191\n",
      " 0.57167951 0.41249681 0.47635237 0.53942913 0.37768489 0.42643001\n",
      " 0.36849564 0.47576404 0.40046789 0.52041731 0.48066    0.49282632\n",
      " 0.39717033 0.42099499 0.3846668  0.41628745 0.4916217  0.38348332\n",
      " 0.50745173 0.3862822  0.33061632 0.47783241 0.49911264 0.49729339\n",
      " 0.35705016 0.57959349 0.39237529 0.50366805 0.48833214 0.47901756\n",
      " 0.48814276 0.51559797 0.44910659 0.48444951 0.48278161 0.39509105\n",
      " 0.3648933  0.47193514 0.37080054 0.47183653 0.48494865 0.49410596\n",
      " 0.57962329 0.52042081 0.48990536 0.39607204]\n"
     ]
    }
   ],
   "source": [
    "print(type(x_data),type(y_data),len(x_data),len(y_data))\n",
    "print(x_data)\n",
    "print(y_data)"
   ]
  },
  {
   "cell_type": "code",
   "execution_count": 10,
   "metadata": {},
   "outputs": [
    {
     "data": {
      "text/plain": [
       "<tf.Tensor 'zeros_1:0' shape=(1,) dtype=float32>"
      ]
     },
     "execution_count": 10,
     "metadata": {},
     "output_type": "execute_result"
    }
   ],
   "source": [
    "tf.zeros([1])"
   ]
  },
  {
   "cell_type": "code",
   "execution_count": 8,
   "metadata": {},
   "outputs": [],
   "source": [
    "b = tf.Variable(tf.zeros([1]))\n",
    "W = tf.Variable(tf.random_uniform([1, 2], -1.0, 1.0))\n",
    "y = tf.matmul(W, x_data) + b"
   ]
  },
  {
   "cell_type": "code",
   "execution_count": 9,
   "metadata": {},
   "outputs": [
    {
     "data": {
      "text/plain": [
       "<tf.Variable 'Variable:0' shape=(1,) dtype=float32_ref>"
      ]
     },
     "execution_count": 9,
     "metadata": {},
     "output_type": "execute_result"
    }
   ],
   "source": [
    "b"
   ]
  },
  {
   "cell_type": "code",
   "execution_count": 12,
   "metadata": {},
   "outputs": [
    {
     "data": {
      "text/plain": [
       "<tf.Tensor 'zeros_2:0' shape=(3, 4) dtype=int32>"
      ]
     },
     "execution_count": 12,
     "metadata": {},
     "output_type": "execute_result"
    }
   ],
   "source": [
    "tf.zeros([3, 4], tf.int32)"
   ]
  },
  {
   "cell_type": "code",
   "execution_count": 13,
   "metadata": {},
   "outputs": [
    {
     "data": {
      "text/plain": [
       "<tf.Variable 'Variable_1:0' shape=(1, 2) dtype=float32_ref>"
      ]
     },
     "execution_count": 13,
     "metadata": {},
     "output_type": "execute_result"
    }
   ],
   "source": [
    "W"
   ]
  },
  {
   "cell_type": "code",
   "execution_count": 14,
   "metadata": {},
   "outputs": [
    {
     "data": {
      "text/plain": [
       "<tf.Tensor 'add:0' shape=(1, 100) dtype=float32>"
      ]
     },
     "execution_count": 14,
     "metadata": {},
     "output_type": "execute_result"
    }
   ],
   "source": [
    "y"
   ]
  },
  {
   "cell_type": "code",
   "execution_count": 15,
   "metadata": {},
   "outputs": [],
   "source": [
    "# 最小化方差\n",
    "loss = tf.reduce_mean(tf.square(y - y_data))\n",
    "optimizer = tf.train.GradientDescentOptimizer(0.5)\n",
    "train = optimizer.minimize(loss)"
   ]
  },
  {
   "cell_type": "code",
   "execution_count": 16,
   "metadata": {},
   "outputs": [
    {
     "name": "stdout",
     "output_type": "stream",
     "text": [
      "WARNING:tensorflow:From f:\\python3.6.5\\lib\\site-packages\\tensorflow\\python\\util\\tf_should_use.py:170: initialize_all_variables (from tensorflow.python.ops.variables) is deprecated and will be removed after 2017-03-02.\n",
      "Instructions for updating:\n",
      "Use `tf.global_variables_initializer` instead.\n"
     ]
    }
   ],
   "source": [
    "# 初始化变量\n",
    "init = tf.initialize_all_variables()\n",
    "\n",
    "# 启动图 (graph)\n",
    "sess = tf.Session()\n",
    "sess.run(init)"
   ]
  },
  {
   "cell_type": "code",
   "execution_count": 17,
   "metadata": {},
   "outputs": [
    {
     "name": "stdout",
     "output_type": "stream",
     "text": [
      "0 [[-0.15994543  0.3515094 ]] [0.8002901]\n",
      "20 [[0.00636606 0.16513488]] [0.36760086]\n",
      "40 [[0.0760925  0.18279134]] [0.3218781]\n",
      "60 [[0.09329744 0.19329932]] [0.30717668]\n",
      "80 [[0.09798578 0.1976004 ]] [0.30237126]\n",
      "100 [[0.0993669  0.19917168]] [0.30078653]\n",
      "120 [[0.09979568 0.19971907]] [0.30026138]\n",
      "140 [[0.09993307 0.19990554]] [0.30008698]\n",
      "160 [[0.0999779  0.19996838]] [0.30002895]\n",
      "180 [[0.09999269 0.19998945]] [0.30000964]\n",
      "200 [[0.09999758 0.19999647]] [0.3000032]\n"
     ]
    }
   ],
   "source": [
    "for step in range(0, 201):\n",
    "    sess.run(train)\n",
    "    if step % 20 == 0:\n",
    "        print (step, sess.run(W), sess.run(b))"
   ]
  },
  {
   "cell_type": "code",
   "execution_count": null,
   "metadata": {},
   "outputs": [],
   "source": []
  }
 ],
 "metadata": {
  "kernelspec": {
   "display_name": "Python 3",
   "language": "python",
   "name": "python3"
  },
  "language_info": {
   "codemirror_mode": {
    "name": "ipython",
    "version": 3
   },
   "file_extension": ".py",
   "mimetype": "text/x-python",
   "name": "python",
   "nbconvert_exporter": "python",
   "pygments_lexer": "ipython3",
   "version": "3.6.5"
  }
 },
 "nbformat": 4,
 "nbformat_minor": 4
}
