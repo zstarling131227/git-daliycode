{
 "cells": [
  {
   "cell_type": "code",
   "execution_count": 2,
   "metadata": {},
   "outputs": [
    {
     "name": "stderr",
     "output_type": "stream",
     "text": [
      "f:\\python3.6.5\\lib\\importlib\\_bootstrap.py:219: RuntimeWarning: numpy.ufunc size changed, may indicate binary incompatibility. Expected 192 from C header, got 216 from PyObject\n",
      "  return f(*args, **kwds)\n"
     ]
    }
   ],
   "source": [
    "from sklearn.datasets import load_breast_cancer"
   ]
  },
  {
   "cell_type": "code",
   "execution_count": 1,
   "metadata": {},
   "outputs": [],
   "source": [
    "import time\n",
    "import numpy"
   ]
  },
  {
   "cell_type": "code",
   "execution_count": 11,
   "metadata": {},
   "outputs": [],
   "source": [
    "def singleNumber1(nums: list) -> list:\n",
    "    start = time.clock()\n",
    "    d = dict()\n",
    "    for i in nums:\n",
    "        if not i in d.keys():\n",
    "            d[i] = 0\n",
    "        d[i] += 1\n",
    "    r = list()\n",
    "    for i in d.keys():\n",
    "        if (d[i] == 1):\n",
    "            r.append(i)\n",
    "    end = time.clock()\n",
    "#     print('singleNumber1程序执行时间: ', end - start)\n",
    "    return r"
   ]
  },
  {
   "cell_type": "code",
   "execution_count": 12,
   "metadata": {},
   "outputs": [],
   "source": [
    "def singleNumber2(nums: list) -> list:\n",
    "    start = time.clock()\n",
    "    r = list()\n",
    "    for i in set(nums):\n",
    "        if nums.count(i) == 1:\n",
    "            r.append(i)\n",
    "    end = time.clock()\n",
    "#     print('singleNumber2程序执行时间: ', end - start)\n",
    "    return r"
   ]
  },
  {
   "cell_type": "code",
   "execution_count": 13,
   "metadata": {},
   "outputs": [],
   "source": [
    "list1 = list(\"20725316\")\n",
    "data1=list(numpy.random.randint(1,1001,10000))"
   ]
  },
  {
   "cell_type": "code",
   "execution_count": 14,
   "metadata": {},
   "outputs": [
    {
     "name": "stdout",
     "output_type": "stream",
     "text": [
      "10000\n",
      "singleNumber1 []\n",
      "singleNumber2 []\n",
      "singleNumber1 ['0', '7', '5', '3', '1', '6']\n",
      "singleNumber2 ['6', '1', '0', '7', '5', '3']\n"
     ]
    }
   ],
   "source": [
    "print(len(data1))\n",
    "print(\"singleNumber1\", singleNumber1(data1))\n",
    "print(\"singleNumber2\", singleNumber2(data1))\n",
    "print(\"singleNumber1\", singleNumber1(list1))\n",
    "print(\"singleNumber2\", singleNumber2(list(list1)))"
   ]
  },
  {
   "cell_type": "code",
   "execution_count": 15,
   "metadata": {},
   "outputs": [
    {
     "name": "stdout",
     "output_type": "stream",
     "text": [
      "2.32 ms ± 313 µs per loop (mean ± std. dev. of 7 runs, 100 loops each)\n"
     ]
    }
   ],
   "source": [
    "%timeit \"singleNumber1\", singleNumber1(data1)"
   ]
  },
  {
   "cell_type": "code",
   "execution_count": 16,
   "metadata": {},
   "outputs": [
    {
     "name": "stdout",
     "output_type": "stream",
     "text": [
      "158 ms ± 8.74 ms per loop (mean ± std. dev. of 7 runs, 10 loops each)\n"
     ]
    }
   ],
   "source": [
    "%timeit \"singleNumber2\", singleNumber2(data1)"
   ]
  },
  {
   "cell_type": "code",
   "execution_count": null,
   "metadata": {},
   "outputs": [],
   "source": []
  }
 ],
 "metadata": {
  "kernelspec": {
   "display_name": "Python 3",
   "language": "python",
   "name": "python3"
  },
  "language_info": {
   "codemirror_mode": {
    "name": "ipython",
    "version": 3
   },
   "file_extension": ".py",
   "mimetype": "text/x-python",
   "name": "python",
   "nbconvert_exporter": "python",
   "pygments_lexer": "ipython3",
   "version": "3.6.5"
  }
 },
 "nbformat": 4,
 "nbformat_minor": 4
}
