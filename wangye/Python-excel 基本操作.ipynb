{
 "cells": [
  {
   "cell_type": "markdown",
   "metadata": {},
   "source": [
    "# 创建一个excel 文件，并写入不同类的内容"
   ]
  },
  {
   "cell_type": "code",
   "execution_count": 2,
   "metadata": {},
   "outputs": [],
   "source": [
    "import locale\n",
    "from openpyxl import Workbook\n",
    "\n",
    "# 创建文件对象\n",
    "wb = Workbook()\n",
    "#获取第一个sheet\n",
    "ws = wb.active\n",
    "# 将数据写入到指定的单元格\n",
    "ws['A1'] = 42 #写入数字\n",
    "ws['B1'] = \"自动化\"+\"automation test\" #写入中文\n",
    " \n",
    " \n",
    "ws.append([1, 2, 3])#写入多个单元格\n",
    " \n",
    "#保存为a.xlsx\n",
    "wb.save(\"a.xlsx\")"
   ]
  },
  {
   "cell_type": "markdown",
   "metadata": {},
   "source": [
    "# 创建sheet"
   ]
  },
  {
   "cell_type": "code",
   "execution_count": 3,
   "metadata": {},
   "outputs": [
    {
     "name": "stdout",
     "output_type": "stream",
     "text": [
      "<Worksheet \"测试用例\">\n",
      "<Worksheet \"New Title\">\n",
      "['测试用例', 'Sheet', 'kongsh', 'New Title']\n",
      "测试用例\n",
      "<Worksheet \"测试用例\">\n",
      "Sheet\n",
      "<Worksheet \"Sheet\">\n",
      "kongsh\n",
      "<Worksheet \"kongsh\">\n",
      "New Title\n",
      "<Worksheet \"New Title\">\n",
      "<Worksheet \"测试用例\">\n",
      "测试用例\n",
      "<Worksheet \"Sheet\">\n",
      "Sheet\n",
      "<Worksheet \"kongsh\">\n",
      "kongsh\n",
      "<Worksheet \"New Title\">\n",
      "New Title\n"
     ]
    }
   ],
   "source": [
    "from openpyxl import Workbook \n",
    "wb = Workbook()\n",
    " \n",
    "ws = wb.create_sheet(\"kongsh\") \n",
    "ws1 = wb.create_sheet(\"Mysheet\")\n",
    " \n",
    "ws1.title = \"New Title\"  \n",
    "ws2 = wb.create_sheet(\"Mysheet\", 0)        #设定sheet的插入位置\n",
    "ws2.title = u\"测试用例\"\n",
    "#设置sheet名的背景色\n",
    "ws1.sheet_properties.tabColor = \"1072BA\"\n",
    " \n",
    "#获取某个sheet对象\n",
    "print (wb[\"测试用例\"])\n",
    "print (wb[\"New Title\" ])\n",
    " \n",
    "#获取所有的sheet名字\n",
    "print (wb.sheetnames)\n",
    "for sheet_name in wb.sheetnames:\n",
    "    print (sheet_name)\n",
    "    print(wb[sheet_name])\n",
    " \n",
    "#遍历获取sheet对象，按照sheet顺序获取\n",
    "for sheet in wb:\n",
    "    print (sheet)\n",
    "    print(sheet.title)#获取sheet名称\n",
    " \n",
    "#复制一个sheet\n",
    "wb[\"New Title\" ][\"A1\"]=\"gloryroad\"\n",
    "source = wb[\"New Title\" ]\n",
    "target = wb.copy_worksheet(source)\n",
    " \n",
    "target.title=\"New copy Title\"\n",
    " \n",
    "#保存文件\n",
    "wb.save(\"a.xlsx\")"
   ]
  },
  {
   "cell_type": "markdown",
   "metadata": {},
   "source": [
    "# 操作单元格"
   ]
  },
  {
   "cell_type": "code",
   "execution_count": 6,
   "metadata": {},
   "outputs": [
    {
     "name": "stdout",
     "output_type": "stream",
     "text": [
      "10\n",
      "测试用例\n",
      "10\n",
      "None\n"
     ]
    }
   ],
   "source": [
    "from openpyxl import Workbook\n",
    "wb = Workbook()\n",
    "ws1 = wb.create_sheet(\"Mysheet\")           #创建一个sheet\n",
    "ws1[\"A1\"]=123.11\n",
    "ws1[\"B2\"]=\"测试用例\"\n",
    "#行号和列号必须从1开始，获取指定单元格的内容\n",
    "d = ws1.cell(row=1, column=1, value=10)\n",
    "#指定行列坐标组成的字符串，value属性就是单元格的值\n",
    "print (ws1[\"A1\"].value)\n",
    "print (ws1[\"B2\"].value)\n",
    "print (d.value)\n",
    "print (ws1.cell(row=4,column=2).value)\n",
    " \n",
    "# 保存文件\n",
    "wb.save(\"a.xlsx\")"
   ]
  },
  {
   "cell_type": "markdown",
   "metadata": {},
   "source": [
    "# 操作行/列/指定区域"
   ]
  },
  {
   "cell_type": "code",
   "execution_count": 14,
   "metadata": {},
   "outputs": [
    {
     "name": "stdout",
     "output_type": "stream",
     "text": [
      "(<Cell 'Mysheet'.A1>, <Cell 'Mysheet'.A2>, <Cell 'Mysheet'.A3>)\n",
      "1\n",
      "2\n",
      "3\n"
     ]
    }
   ],
   "source": [
    "from openpyxl import Workbook, load_workbook\n",
    "wb = Workbook()\n",
    "ws1 = wb.create_sheet(\"Mysheet\")           #创建一个sheet\n",
    " \n",
    "ws1[\"A1\"]=1\n",
    "ws1[\"A2\"]=2\n",
    "ws1[\"A3\"]=3\n",
    "##ws1[\"A10\"]=3\n",
    " \n",
    "ws1[\"B1\"]=4\n",
    "ws1[\"B2\"]=5\n",
    "ws1[\"B3\"]=6\n",
    " \n",
    "ws1[\"C1\"]=7\n",
    "ws1[\"C2\"]=8\n",
    "ws1[\"C3\"]=9\n",
    " \n",
    "#操作单列\n",
    "print (ws1[\"A\"])\n",
    "for cell in ws1[\"A\"]:\n",
    "    print (cell.value)\n",
    " \n",
    " \n"
   ]
  },
  {
   "cell_type": "code",
   "execution_count": 15,
   "metadata": {},
   "outputs": [
    {
     "name": "stdout",
     "output_type": "stream",
     "text": [
      "3 3\n",
      "1 1\n",
      "<generator object Worksheet._cells_by_col at 0x00000168A8CDFE60>\n",
      "<generator object Worksheet._cells_by_row at 0x00000168A8CDFE60>\n"
     ]
    }
   ],
   "source": [
    "#最大有效行和列\n",
    "print(ws1.max_row,ws1.max_column)\n",
    " \n",
    "#最小有效行和列\n",
    "print(ws1.min_row,ws1.min_column)\n",
    " \n",
    "print(ws1.columns)\n",
    "print(ws1.rows)"
   ]
  },
  {
   "cell_type": "code",
   "execution_count": 16,
   "metadata": {},
   "outputs": [
    {
     "name": "stdout",
     "output_type": "stream",
     "text": [
      "((<Cell 'Mysheet'.A1>, <Cell 'Mysheet'.A2>, <Cell 'Mysheet'.A3>), (<Cell 'Mysheet'.B1>, <Cell 'Mysheet'.B2>, <Cell 'Mysheet'.B3>), (<Cell 'Mysheet'.C1>, <Cell 'Mysheet'.C2>, <Cell 'Mysheet'.C3>))\n",
      "1\n",
      "2\n",
      "3\n",
      "4\n",
      "5\n",
      "6\n",
      "7\n",
      "8\n",
      "9\n",
      "((<Cell 'Mysheet'.A1>, <Cell 'Mysheet'.B1>, <Cell 'Mysheet'.C1>), (<Cell 'Mysheet'.A2>, <Cell 'Mysheet'.B2>, <Cell 'Mysheet'.C2>), (<Cell 'Mysheet'.A3>, <Cell 'Mysheet'.B3>, <Cell 'Mysheet'.C3>))\n",
      "1\n",
      "4\n",
      "7\n",
      "2\n",
      "5\n",
      "8\n",
      "3\n",
      "6\n",
      "9\n"
     ]
    }
   ],
   "source": [
    "#操作多列,获取每一个值   列用英文大写表示  按列输出\n",
    "print (ws1[\"A:C\"])\n",
    "for column in ws1[\"A:C\"]:\n",
    "    for cell in column:\n",
    "        print (cell.value)\n",
    " \n",
    "# 操作多行 行用数字表示 按行输出\n",
    "row_range = ws1[1:3]\n",
    "print(row_range)\n",
    "for row in row_range:\n",
    "      for cell in row:\n",
    "            print(cell.value)"
   ]
  },
  {
   "cell_type": "code",
   "execution_count": null,
   "metadata": {},
   "outputs": [],
   "source": [
    "#指定一个操作的区域\n",
    "for row in ws1.iter_rows(min_row=1, min_col=1, max_col=3, max_row=3):\n",
    "    for cell in row:\n",
    "        print (cell.value)\n",
    " \n",
    "#获取所有行\n",
    "print (ws1.rows)\n",
    "for row in ws1.rows:\n",
    "    print (\"行\",row)\n",
    " \n",
    "#获取所有列\n",
    "print (ws1.columns)\n",
    "for col in ws1.columns:\n",
    "    print (\"列\",col)\n",
    " \n",
    "# 保存文件\n",
    "wb.save(\"a.xlsx\")"
   ]
  },
  {
   "cell_type": "markdown",
   "metadata": {},
   "source": [
    "# 显示小数"
   ]
  },
  {
   "cell_type": "code",
   "execution_count": 19,
   "metadata": {},
   "outputs": [
    {
     "name": "stdout",
     "output_type": "stream",
     "text": [
      "12%\n"
     ]
    }
   ],
   "source": [
    "from openpyxl import Workbook\n",
    "from openpyxl import load_workbook\n",
    "wb = load_workbook('a.xlsx')\n",
    "wb.guess_types = True#将单元格的百分数显示为小数\n",
    "#wb.guess_types = False#将单元格的百分数显示为百分数\n",
    "ws=wb.active\n",
    "ws[\"D1\"]=\"12%\"\n",
    "print (ws[\"D1\"].value)\n",
    " \n",
    "# 保存\n",
    "wb.save(\"a.xlsx\")"
   ]
  },
  {
   "cell_type": "markdown",
   "metadata": {},
   "source": [
    "# 获取所有的行对象"
   ]
  },
  {
   "cell_type": "code",
   "execution_count": 20,
   "metadata": {},
   "outputs": [
    {
     "name": "stdout",
     "output_type": "stream",
     "text": [
      "[(<Cell 'Sheet'.A1>, <Cell 'Sheet'.B1>, <Cell 'Sheet'.C1>, <Cell 'Sheet'.D1>)]\n",
      "(<Cell 'Sheet'.A1>, <Cell 'Sheet'.B1>, <Cell 'Sheet'.C1>, <Cell 'Sheet'.D1>)\n",
      "<Cell 'Sheet'.A1>\n",
      "None\n",
      "(<Cell 'Sheet'.A1>, <Cell 'Sheet'.B1>, <Cell 'Sheet'.C1>, <Cell 'Sheet'.D1>)\n",
      "<Cell 'Sheet'.D1>\n",
      "12%\n"
     ]
    }
   ],
   "source": [
    "#coding=utf-8\n",
    "from openpyxl import Workbook\n",
    "from openpyxl import load_workbook\n",
    "#加载一个已经存在的excel文件\n",
    "wb = load_workbook('a.xlsx')\n",
    "ws=wb.active\n",
    "rows=[]\n",
    "for row in ws.iter_rows():\n",
    "            rows.append(row)\n",
    " \n",
    "print (rows)                 #所有行\n",
    "print (rows[0])              #获取第一行\n",
    "print (rows[0][0])            #获取第一行第一列的单元格对象\n",
    "print (rows[0][0].value)          #获取第一行第一列的单元格对象的值\n",
    " \n",
    " \n",
    "print (rows[len(rows)-1])             #获取最后行\n",
    "print (rows[len(rows)-1][len(rows[0])-1])       #获取第后一行和最后一列的单元格对象\n",
    "print (rows[len(rows)-1][len(rows[0])-1].value)  #获取第后一行和最后一列的单元格对象的值"
   ]
  },
  {
   "cell_type": "markdown",
   "metadata": {},
   "source": [
    "# 单元格类型"
   ]
  },
  {
   "cell_type": "code",
   "execution_count": 23,
   "metadata": {},
   "outputs": [
    {
     "name": "stdout",
     "output_type": "stream",
     "text": [
      "yyyy-mm-dd h:mm:ss\n",
      "General\n",
      "General\n",
      "General\n"
     ]
    }
   ],
   "source": [
    "# -*- coding: utf-8 -*-\n",
    "from openpyxl import Workbook\n",
    "from openpyxl import load_workbook\n",
    "import datetime\n",
    "wb = load_workbook('a.xlsx')\n",
    " \n",
    "ws=wb.active\n",
    "wb.guess_types = True\n",
    "\n",
    "# General表示常规\n",
    "\n",
    "ws[\"A1\"]=datetime.datetime(2010, 7, 21)\n",
    "print (ws[\"A1\"].number_format)\n",
    " \n",
    "ws[\"A2\"]=\"12%\"\n",
    "print (ws[\"A2\"].number_format)\n",
    " \n",
    "ws[\"A3\"]= 1.1\n",
    "print (ws[\"A3\"].number_format)\n",
    " \n",
    "ws[\"A4\"]= \"中国\"\n",
    "print (ws[\"A4\"].number_format)\n",
    "# 保存文件\n",
    "wb.save(\"a.xlsx\")"
   ]
  },
  {
   "cell_type": "markdown",
   "metadata": {},
   "source": [
    "# 公式"
   ]
  },
  {
   "cell_type": "code",
   "execution_count": 24,
   "metadata": {},
   "outputs": [
    {
     "name": "stdout",
     "output_type": "stream",
     "text": [
      "=SUM(1, 1)\n",
      "=SUM(A1:A3)\n"
     ]
    }
   ],
   "source": [
    "from openpyxl import Workbook\n",
    "from openpyxl import load_workbook\n",
    " \n",
    "wb = load_workbook('a.xlsx')\n",
    " \n",
    "ws1=wb.active\n",
    " \n",
    "ws1[\"A1\"]=1\n",
    "ws1[\"A2\"]=2\n",
    "ws1[\"A3\"]=3\n",
    " \n",
    "ws1[\"A4\"] = \"=SUM(1, 1)\"\n",
    "ws1[\"A5\"] = \"=SUM(A1:A3)\"\n",
    " \n",
    "print (ws1[\"A4\"].value)  #打印的是公式，不是公式计算后的值,程序无法取到计算后的值\n",
    "print (ws1[\"A5\"].value)  #打印的是公式，不是公式计算后的值,程序无法取到计算后的值\n",
    " \n",
    "# 保存文件\n",
    "wb.save(\"a.xlsx\")"
   ]
  },
  {
   "cell_type": "markdown",
   "metadata": {},
   "source": [
    "# 合并单元格/取消合并单元格"
   ]
  },
  {
   "cell_type": "code",
   "execution_count": 25,
   "metadata": {},
   "outputs": [],
   "source": [
    "# -*- coding: utf-8 -*-\n",
    "from openpyxl import Workbook\n",
    "from openpyxl import load_workbook\n",
    " \n",
    " \n",
    "wb = Workbook()\n",
    "ws = wb.active\n",
    " \n",
    "ws.merge_cells('A2:D2')\n",
    "ws.unmerge_cells('A2:D2')#取消合并\n",
    " \n",
    "# 或者\n",
    "ws.merge_cells(start_row=2,start_column=1,end_row=2,end_column=4)\n",
    "ws.unmerge_cells(start_row=2,start_column=1,end_row=2,end_column=4)#取消合并\n",
    " \n",
    " \n",
    "#保存文件\n",
    "wb.save(\"a.xlsx\")"
   ]
  },
  {
   "cell_type": "markdown",
   "metadata": {},
   "source": [
    "# 插入图片"
   ]
  },
  {
   "cell_type": "code",
   "execution_count": 1,
   "metadata": {},
   "outputs": [],
   "source": [
    "# -*- coding: utf-8 -*-\n",
    "from openpyxl import load_workbook\n",
    "from openpyxl.drawing.image import Image\n",
    " \n",
    "wb = load_workbook('a.xlsx')\n",
    "ws1=wb.active\n",
    "img = Image(r'E:\\BaiduNetdiskDownload\\纪龙山合集\\微信图片_20201022151922.jpg')\n",
    "ws1.add_image(img, 'A1')\n",
    " \n",
    "# 保存文件\n",
    "wb.save(\"a.xlsx\")"
   ]
  },
  {
   "cell_type": "code",
   "execution_count": null,
   "metadata": {},
   "outputs": [],
   "source": [
    "\n"
   ]
  },
  {
   "cell_type": "code",
   "execution_count": null,
   "metadata": {},
   "outputs": [],
   "source": []
  }
 ],
 "metadata": {
  "kernelspec": {
   "display_name": "Python 3",
   "language": "python",
   "name": "python3"
  },
  "language_info": {
   "codemirror_mode": {
    "name": "ipython",
    "version": 3
   },
   "file_extension": ".py",
   "mimetype": "text/x-python",
   "name": "python",
   "nbconvert_exporter": "python",
   "pygments_lexer": "ipython3",
   "version": "3.6.5"
  }
 },
 "nbformat": 4,
 "nbformat_minor": 4
}
